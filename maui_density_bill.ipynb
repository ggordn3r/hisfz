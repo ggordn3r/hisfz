{
 "cells": [
  {
   "cell_type": "code",
   "execution_count": 96,
   "metadata": {},
   "outputs": [],
   "source": [
    "import pandas as pd\n",
    "import geopandas as gpd\n",
    "import matplotlib.pyplot as plt\n",
    "import os\n",
    "\n",
    "albers_hi = '+proj=aea +lat_0=13 +lon_0=-157 +lat_1=8 +lat_2=18 +x_0=0 +y_0=0 +datum=NAD83 +units=m +no_defs +type=crs'"
   ]
  },
  {
   "cell_type": "markdown",
   "metadata": {},
   "source": [
    "# Data preparation"
   ]
  },
  {
   "cell_type": "code",
   "execution_count": 102,
   "metadata": {},
   "outputs": [
    {
     "data": {
      "text/plain": [
       "True"
      ]
     },
     "execution_count": 102,
     "metadata": {},
     "output_type": "execute_result"
    }
   ],
   "source": [
    "maui_zoning = gpd.read_file('data/Zoning_(County_of_Maui).geojson')\n",
    "maui_parcels = gpd.read_file('data/Parcels_Maui_County.geojson')\n",
    "\n",
    "# CRS are the same\n",
    "maui_zoning.crs == maui_parcels.crs\n",
    "\n",
    "# zoning is already dissolved for 1 row per district"
   ]
  },
  {
   "cell_type": "code",
   "execution_count": 105,
   "metadata": {},
   "outputs": [],
   "source": [
    "# drop unnecessary columns\n",
    "maui_zoning = maui_zoning[['zone_class', 'cp_area', 'cp_area_name', 'island', 'island_name', 'geometry']]\n",
    "\n",
    "# reduce to only relevant R districts for speed\n",
    "maui_zoning = maui_zoning[maui_zoning['zone_class'].str.match(r\"^R-[1-3]\")]\n",
    "\n",
    "# dissolve on zone in area\n",
    "maui_zoning = maui_zoning.dissolve(by=['cp_area', 'zone_class'], aggfunc='first', as_index=False)"
   ]
  },
  {
   "cell_type": "code",
   "execution_count": 112,
   "metadata": {},
   "outputs": [
    {
     "data": {
      "text/plain": [
       "cp_area\n",
       "KM     3\n",
       "LN     3\n",
       "MPK    3\n",
       "PH     3\n",
       "WK     3\n",
       "WM     3\n",
       "ML     2\n",
       "HN     1\n",
       "Name: count, dtype: int64"
      ]
     },
     "execution_count": 112,
     "metadata": {},
     "output_type": "execute_result"
    }
   ],
   "source": [
    "maui_zoning.cp_area.value_counts()"
   ]
  },
  {
   "cell_type": "code",
   "execution_count": 113,
   "metadata": {},
   "outputs": [],
   "source": [
    "# clip parcels to zones (9m)\n",
    "maui_parcels = gpd.clip(maui_parcels, maui_zoning)"
   ]
  },
  {
   "cell_type": "code",
   "execution_count": 114,
   "metadata": {},
   "outputs": [],
   "source": [
    "# add zoning data to R parcels (2.5min)\n",
    "maui_parcels_in_zones = gpd.sjoin(maui_parcels, maui_zoning, how = 'inner')"
   ]
  },
  {
   "cell_type": "code",
   "execution_count": 115,
   "metadata": {},
   "outputs": [
    {
     "name": "stdout",
     "output_type": "stream",
     "text": [
      "22132\n",
      "1.04\n"
     ]
    }
   ],
   "source": [
    "print(len(maui_parcels_in_zones))\n",
    "# FIXME getting more than a 1:1 ratio of parcels to zones\n",
    "print(round(len(maui_parcels_in_zones)/len(maui_parcels), 2))"
   ]
  },
  {
   "cell_type": "code",
   "execution_count": 116,
   "metadata": {},
   "outputs": [],
   "source": [
    "# calculate parcel area\n",
    "original_crs = maui_parcels_in_zones.crs\n",
    "maui_parcels_in_zones['geometry'] = maui_parcels_in_zones['geometry'].to_crs(albers_hi)\n",
    "maui_parcels_in_zones['parcel_area'] = maui_parcels_in_zones.geometry.area\n",
    "maui_parcels_in_zones['geometry'] = maui_parcels_in_zones['geometry'].to_crs(original_crs)\n",
    "\n",
    "# convert from sqm to sqft\n",
    "maui_parcels_in_zones['parcel_area'] = maui_parcels_in_zones['parcel_area'] * 10.7639"
   ]
  },
  {
   "cell_type": "code",
   "execution_count": 119,
   "metadata": {},
   "outputs": [],
   "source": [
    "maui_parcels_in_zones = maui_parcels_in_zones[['tmk', 'tmk_txt', 'cty_tmk', 'landvalue', 'landexempt',\n",
    "       'bldgvalue', 'bldgexempt', 'pittcode', 'homeowner', 'nhoodcode',\n",
    "       'taxacres', 'gisacres', 'qpub_link', 'geometry', 'cp_area', 'zone_class',\n",
    "       'cp_area_name', 'island', 'island_name', 'parcel_area']]"
   ]
  },
  {
   "cell_type": "code",
   "execution_count": 120,
   "metadata": {},
   "outputs": [],
   "source": [
    "# spatial join parcels to islands for filtering\n",
    "maui_parcels_in_zones.to_file('data/maui_gdf.geojson', driver='GeoJSON')\n",
    "\n",
    "# lanai = maui_islands[maui_islands['island_name' == 'Lanai']]\n",
    "# molokai = maui_islands[maui_islands['island_name' == 'Molokai']]\n",
    "# maui = maui_islands[maui_islands['island_name' == 'Maui']]"
   ]
  },
  {
   "cell_type": "markdown",
   "metadata": {},
   "source": [
    "# Analysis"
   ]
  },
  {
   "cell_type": "code",
   "execution_count": 123,
   "metadata": {},
   "outputs": [],
   "source": [
    "maui_gdf = gpd.read_file('data/maui_gdf.geojson')"
   ]
  },
  {
   "cell_type": "code",
   "execution_count": 152,
   "metadata": {},
   "outputs": [
    {
     "data": {
      "text/plain": [
       "['https://qpublic.schneidercorp.com/Application.aspx?AppID=1029&PageTypeID=4&KeyValue=440140060000',\n",
       " 'https://qpublic.schneidercorp.com/Application.aspx?AppID=1029&PageTypeID=4&KeyValue=440140050000',\n",
       " 'https://qpublic.schneidercorp.com/Application.aspx?AppID=1029&PageTypeID=4&KeyValue=440130080000',\n",
       " 'https://qpublic.schneidercorp.com/Application.aspx?AppID=1029&PageTypeID=4&KeyValue=380010190000',\n",
       " 'https://qpublic.schneidercorp.com/Application.aspx?AppID=1029&PageTypeID=4&KeyValue=380460130000',\n",
       " 'https://qpublic.schneidercorp.com/Application.aspx?AppID=1029&PageTypeID=4&KeyValue=440130130000',\n",
       " 'https://qpublic.schneidercorp.com/Application.aspx?AppID=1029&PageTypeID=4&KeyValue=230080390000',\n",
       " 'https://qpublic.schneidercorp.com/Application.aspx?AppID=1029&PageTypeID=4&KeyValue=230080390000',\n",
       " 'https://qpublic.schneidercorp.com/Application.aspx?AppID=1029&PageTypeID=4&KeyValue=380070400000',\n",
       " 'https://qpublic.schneidercorp.com/Application.aspx?AppID=1029&PageTypeID=4&KeyValue=390011570000']"
      ]
     },
     "execution_count": 152,
     "metadata": {},
     "output_type": "execute_result"
    }
   ],
   "source": [
    "# Highest value properties are >300M. Hotel, UH, etc.\n",
    "# maui_gdf.nlargest(10,'bldgvalue')['qpub_link'].to_list()"
   ]
  },
  {
   "cell_type": "code",
   "execution_count": 180,
   "metadata": {},
   "outputs": [],
   "source": [
    "# Assume a lot is occupied if the bldgvalue is > 50000\n",
    "maui_gdf['occupied'] = maui_gdf['bldgvalue'].apply(lambda x: 1 if (x > 50000) else 0)\n",
    "\n",
    "# calculate possible number of units under existing law\n",
    "# https://library.municode.com/hi/county_of_maui/codes/code_of_ordinances?nodeId=TIT19ZO_ARTIICOZOPR_CH19.08REDI_19.08.040DESTHERESELI\n",
    "# 1 per 6000 R-1, 7500 R-2, 10000 R-3\n",
    "def zone_sort(zone):\n",
    "    if zone == 'R-1 Residential':\n",
    "        return 6000\n",
    "    if zone == 'R-2 Residential':\n",
    "        return 7500\n",
    "    if zone == 'R-3 Residential':\n",
    "        return 10000\n",
    "\n",
    "maui_gdf['current_limit'] = maui_gdf['zone_class'].apply(zone_sort)\n",
    "maui_gdf['current_limit'] = maui_gdf['parcel_area'] // maui_gdf['current_limit']\n",
    "\n",
    "# calculate possible number of units under new law\n",
    "# no change for Molokai\n",
    "maui_gdf['proposed_limit'] = maui_gdf['current_limit']\n",
    "# parcel area // 2500 (for Lanai and Maui)\n",
    "maui_gdf.loc[(maui_gdf['island_name'] != 'Molokai'), 'proposed_limit'] = maui_gdf['parcel_area'] // 2500\n",
    "\n",
    "# calculate gross gain in potential units (without taking into accounts actual units or ADUs)\n",
    "maui_gdf['gross_increase'] = maui_gdf['proposed_limit'] - maui_gdf['current_limit']\n",
    "\n",
    "# calculate net gain in potential units (subtracting occupied)\n",
    "maui_gdf['net_increase'] = maui_gdf['gross_increase'] - maui_gdf['occupied']"
   ]
  },
  {
   "cell_type": "code",
   "execution_count": 182,
   "metadata": {},
   "outputs": [
    {
     "data": {
      "text/plain": [
       "69324.0"
      ]
     },
     "execution_count": 182,
     "metadata": {},
     "output_type": "execute_result"
    }
   ],
   "source": [
    "# calculate difference on all parcels\n",
    "sum(maui_gdf['net_increase'])"
   ]
  },
  {
   "cell_type": "code",
   "execution_count": 185,
   "metadata": {},
   "outputs": [
    {
     "data": {
      "text/plain": [
       "27511.0"
      ]
     },
     "execution_count": 185,
     "metadata": {},
     "output_type": "execute_result"
    }
   ],
   "source": [
    "# calculate difference on vacant parcels only\n",
    "sum(maui_gdf[(maui_gdf['occupied'] == 0)]['net_increase'])"
   ]
  },
  {
   "cell_type": "code",
   "execution_count": 187,
   "metadata": {},
   "outputs": [
    {
     "data": {
      "text/plain": [
       "3.76"
      ]
     },
     "execution_count": 187,
     "metadata": {},
     "output_type": "execute_result"
    }
   ],
   "source": [
    "# calculate sum as a pct of existing law\n",
    "round(sum(maui_gdf['proposed_limit']) / sum(maui_gdf['current_limit']),2)"
   ]
  },
  {
   "cell_type": "code",
   "execution_count": 196,
   "metadata": {},
   "outputs": [
    {
     "data": {
      "text/html": [
       "<div>\n",
       "<style scoped>\n",
       "    .dataframe tbody tr th:only-of-type {\n",
       "        vertical-align: middle;\n",
       "    }\n",
       "\n",
       "    .dataframe tbody tr th {\n",
       "        vertical-align: top;\n",
       "    }\n",
       "\n",
       "    .dataframe thead th {\n",
       "        text-align: right;\n",
       "    }\n",
       "</style>\n",
       "<table border=\"1\" class=\"dataframe\">\n",
       "  <thead>\n",
       "    <tr style=\"text-align: right;\">\n",
       "      <th>zone_class</th>\n",
       "      <th>R-1 Residential</th>\n",
       "      <th>R-2 Residential</th>\n",
       "      <th>R-3 Residential</th>\n",
       "      <th>All</th>\n",
       "    </tr>\n",
       "    <tr>\n",
       "      <th>island_name</th>\n",
       "      <th></th>\n",
       "      <th></th>\n",
       "      <th></th>\n",
       "      <th></th>\n",
       "    </tr>\n",
       "  </thead>\n",
       "  <tbody>\n",
       "    <tr>\n",
       "      <th>Lanai</th>\n",
       "      <td>466.0</td>\n",
       "      <td>94.0</td>\n",
       "      <td>92.0</td>\n",
       "      <td>652.0</td>\n",
       "    </tr>\n",
       "    <tr>\n",
       "      <th>Maui</th>\n",
       "      <td>7442.0</td>\n",
       "      <td>18837.0</td>\n",
       "      <td>42410.0</td>\n",
       "      <td>68689.0</td>\n",
       "    </tr>\n",
       "    <tr>\n",
       "      <th>Molokai</th>\n",
       "      <td>NaN</td>\n",
       "      <td>0.0</td>\n",
       "      <td>-17.0</td>\n",
       "      <td>-17.0</td>\n",
       "    </tr>\n",
       "    <tr>\n",
       "      <th>All</th>\n",
       "      <td>7908.0</td>\n",
       "      <td>18931.0</td>\n",
       "      <td>42485.0</td>\n",
       "      <td>69324.0</td>\n",
       "    </tr>\n",
       "  </tbody>\n",
       "</table>\n",
       "</div>"
      ],
      "text/plain": [
       "zone_class   R-1 Residential  R-2 Residential  R-3 Residential      All\n",
       "island_name                                                            \n",
       "Lanai                  466.0             94.0             92.0    652.0\n",
       "Maui                  7442.0          18837.0          42410.0  68689.0\n",
       "Molokai                  NaN              0.0            -17.0    -17.0\n",
       "All                   7908.0          18931.0          42485.0  69324.0"
      ]
     },
     "execution_count": 196,
     "metadata": {},
     "output_type": "execute_result"
    }
   ],
   "source": [
    "# crosstab of islands and zones\n",
    "pd.pivot_table(maui_gdf,\n",
    "               values = 'net_increase',\n",
    "               index = 'island_name',\n",
    "               columns = 'zone_class',\n",
    "               aggfunc = 'sum',\n",
    "               margins = True)\n",
    "\n",
    "# calculate sum as a pct of existing housing stock"
   ]
  },
  {
   "cell_type": "code",
   "execution_count": null,
   "metadata": {},
   "outputs": [
    {
     "data": {
      "text/html": [
       "<div>\n",
       "<style scoped>\n",
       "    .dataframe tbody tr th:only-of-type {\n",
       "        vertical-align: middle;\n",
       "    }\n",
       "\n",
       "    .dataframe tbody tr th {\n",
       "        vertical-align: top;\n",
       "    }\n",
       "\n",
       "    .dataframe thead th {\n",
       "        text-align: right;\n",
       "    }\n",
       "</style>\n",
       "<table border=\"1\" class=\"dataframe\">\n",
       "  <thead>\n",
       "    <tr style=\"text-align: right;\">\n",
       "      <th>zone_class</th>\n",
       "      <th>R-1 Residential</th>\n",
       "      <th>R-2 Residential</th>\n",
       "      <th>R-3 Residential</th>\n",
       "      <th>All</th>\n",
       "    </tr>\n",
       "    <tr>\n",
       "      <th>island_name</th>\n",
       "      <th></th>\n",
       "      <th></th>\n",
       "      <th></th>\n",
       "      <th></th>\n",
       "    </tr>\n",
       "  </thead>\n",
       "  <tbody>\n",
       "    <tr>\n",
       "      <th>Lanai</th>\n",
       "      <td>0.0</td>\n",
       "      <td>1.0</td>\n",
       "      <td>5.0</td>\n",
       "      <td>0.0</td>\n",
       "    </tr>\n",
       "    <tr>\n",
       "      <th>Maui</th>\n",
       "      <td>1.0</td>\n",
       "      <td>1.0</td>\n",
       "      <td>2.0</td>\n",
       "      <td>1.0</td>\n",
       "    </tr>\n",
       "    <tr>\n",
       "      <th>Molokai</th>\n",
       "      <td>NaN</td>\n",
       "      <td>0.0</td>\n",
       "      <td>-1.0</td>\n",
       "      <td>-1.0</td>\n",
       "    </tr>\n",
       "    <tr>\n",
       "      <th>All</th>\n",
       "      <td>0.0</td>\n",
       "      <td>1.0</td>\n",
       "      <td>2.0</td>\n",
       "      <td>1.0</td>\n",
       "    </tr>\n",
       "  </tbody>\n",
       "</table>\n",
       "</div>"
      ],
      "text/plain": [
       "zone_class   R-1 Residential  R-2 Residential  R-3 Residential  All\n",
       "island_name                                                        \n",
       "Lanai                    0.0              1.0              5.0  0.0\n",
       "Maui                     1.0              1.0              2.0  1.0\n",
       "Molokai                  NaN              0.0             -1.0 -1.0\n",
       "All                      0.0              1.0              2.0  1.0"
      ]
     },
     "metadata": {},
     "output_type": "display_data"
    }
   ],
   "source": [
    "# crosstab of islands and zones\n",
    "pd.pivot_table(maui_gdf,\n",
    "               values = 'net_increase',\n",
    "               index = 'island_name',\n",
    "               columns = 'zone_class',\n",
    "               aggfunc = 'median',\n",
    "               margins = True)\n",
    "\n",
    "# calculate sum as a pct of existing housing stock"
   ]
  },
  {
   "cell_type": "code",
   "execution_count": 191,
   "metadata": {},
   "outputs": [
    {
     "data": {
      "text/html": [
       "<div>\n",
       "<style scoped>\n",
       "    .dataframe tbody tr th:only-of-type {\n",
       "        vertical-align: middle;\n",
       "    }\n",
       "\n",
       "    .dataframe tbody tr th {\n",
       "        vertical-align: top;\n",
       "    }\n",
       "\n",
       "    .dataframe thead th {\n",
       "        text-align: right;\n",
       "    }\n",
       "</style>\n",
       "<table border=\"1\" class=\"dataframe\">\n",
       "  <thead>\n",
       "    <tr style=\"text-align: right;\">\n",
       "      <th>zone_class</th>\n",
       "      <th>R-1 Residential</th>\n",
       "      <th>R-2 Residential</th>\n",
       "      <th>R-3 Residential</th>\n",
       "      <th>All</th>\n",
       "    </tr>\n",
       "    <tr>\n",
       "      <th>cp_area_name</th>\n",
       "      <th></th>\n",
       "      <th></th>\n",
       "      <th></th>\n",
       "      <th></th>\n",
       "    </tr>\n",
       "  </thead>\n",
       "  <tbody>\n",
       "    <tr>\n",
       "      <th>Hana</th>\n",
       "      <td>NaN</td>\n",
       "      <td>NaN</td>\n",
       "      <td>340.0</td>\n",
       "      <td>340.0</td>\n",
       "    </tr>\n",
       "    <tr>\n",
       "      <th>Kihei-Makena</th>\n",
       "      <td>2388.0</td>\n",
       "      <td>6240.0</td>\n",
       "      <td>8730.0</td>\n",
       "      <td>17358.0</td>\n",
       "    </tr>\n",
       "    <tr>\n",
       "      <th>Lanai</th>\n",
       "      <td>466.0</td>\n",
       "      <td>94.0</td>\n",
       "      <td>92.0</td>\n",
       "      <td>652.0</td>\n",
       "    </tr>\n",
       "    <tr>\n",
       "      <th>Makawao-Pukalani-Kula</th>\n",
       "      <td>1585.0</td>\n",
       "      <td>2747.0</td>\n",
       "      <td>9243.0</td>\n",
       "      <td>13575.0</td>\n",
       "    </tr>\n",
       "    <tr>\n",
       "      <th>Molokai</th>\n",
       "      <td>NaN</td>\n",
       "      <td>0.0</td>\n",
       "      <td>-17.0</td>\n",
       "      <td>-17.0</td>\n",
       "    </tr>\n",
       "    <tr>\n",
       "      <th>Paia-Haiku</th>\n",
       "      <td>853.0</td>\n",
       "      <td>144.0</td>\n",
       "      <td>1829.0</td>\n",
       "      <td>2826.0</td>\n",
       "    </tr>\n",
       "    <tr>\n",
       "      <th>Wailuku-Kahului</th>\n",
       "      <td>816.0</td>\n",
       "      <td>6731.0</td>\n",
       "      <td>9562.0</td>\n",
       "      <td>17109.0</td>\n",
       "    </tr>\n",
       "    <tr>\n",
       "      <th>West Maui</th>\n",
       "      <td>1800.0</td>\n",
       "      <td>2975.0</td>\n",
       "      <td>12706.0</td>\n",
       "      <td>17481.0</td>\n",
       "    </tr>\n",
       "    <tr>\n",
       "      <th>All</th>\n",
       "      <td>7908.0</td>\n",
       "      <td>18931.0</td>\n",
       "      <td>42485.0</td>\n",
       "      <td>69324.0</td>\n",
       "    </tr>\n",
       "  </tbody>\n",
       "</table>\n",
       "</div>"
      ],
      "text/plain": [
       "zone_class             R-1 Residential  R-2 Residential  R-3 Residential  \\\n",
       "cp_area_name                                                               \n",
       "Hana                               NaN              NaN            340.0   \n",
       "Kihei-Makena                    2388.0           6240.0           8730.0   \n",
       "Lanai                            466.0             94.0             92.0   \n",
       "Makawao-Pukalani-Kula           1585.0           2747.0           9243.0   \n",
       "Molokai                            NaN              0.0            -17.0   \n",
       "Paia-Haiku                       853.0            144.0           1829.0   \n",
       "Wailuku-Kahului                  816.0           6731.0           9562.0   \n",
       "West Maui                       1800.0           2975.0          12706.0   \n",
       "All                             7908.0          18931.0          42485.0   \n",
       "\n",
       "zone_class                 All  \n",
       "cp_area_name                    \n",
       "Hana                     340.0  \n",
       "Kihei-Makena           17358.0  \n",
       "Lanai                    652.0  \n",
       "Makawao-Pukalani-Kula  13575.0  \n",
       "Molokai                  -17.0  \n",
       "Paia-Haiku              2826.0  \n",
       "Wailuku-Kahului        17109.0  \n",
       "West Maui              17481.0  \n",
       "All                    69324.0  "
      ]
     },
     "execution_count": 191,
     "metadata": {},
     "output_type": "execute_result"
    }
   ],
   "source": [
    "# crosstab of CP areas and zones\n",
    "pd.pivot_table(maui_gdf,\n",
    "               values = 'net_increase',\n",
    "               index = 'cp_area_name',\n",
    "               columns = 'zone_class',\n",
    "               aggfunc = 'sum',\n",
    "               margins = True)"
   ]
  },
  {
   "cell_type": "code",
   "execution_count": null,
   "metadata": {},
   "outputs": [],
   "source": [
    "# TODO join back to CP areas and choropleth net increase"
   ]
  },
  {
   "cell_type": "code",
   "execution_count": 190,
   "metadata": {},
   "outputs": [],
   "source": [
    "# create tabular file for Grassroot\n",
    "maui_tab = maui_gdf.drop('geometry', axis=1)\n",
    "maui_tab.to_csv('output/maui_nui_parcels_with_zoning.csv')"
   ]
  },
  {
   "cell_type": "code",
   "execution_count": null,
   "metadata": {},
   "outputs": [],
   "source": [
    "# Potential extensions\n",
    "\n",
    "# ADUs\n",
    "\n",
    "# KDA "
   ]
  }
 ],
 "metadata": {
  "kernelspec": {
   "display_name": "geoanalysis",
   "language": "python",
   "name": "python3"
  },
  "language_info": {
   "codemirror_mode": {
    "name": "ipython",
    "version": 3
   },
   "file_extension": ".py",
   "mimetype": "text/x-python",
   "name": "python",
   "nbconvert_exporter": "python",
   "pygments_lexer": "ipython3",
   "version": "3.12.2"
  }
 },
 "nbformat": 4,
 "nbformat_minor": 2
}
