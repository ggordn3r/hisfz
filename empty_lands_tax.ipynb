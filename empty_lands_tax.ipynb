{
 "cells": [
  {
   "cell_type": "markdown",
   "metadata": {},
   "source": [
    "# Empty Lands Tax\n",
    "Initial goal is to calculate the following:\n",
    "- Number of vacant A/AMX lots\n",
    "- Proportion of A/AMX lots that is vacant\n",
    "- Total vacant land area in A/AMX districts\n",
    "\n",
    "Assumption: vacant is currently defined as less than $100,000 in building value according to Honolulu real property tax records."
   ]
  },
  {
   "cell_type": "code",
   "execution_count": 1,
   "metadata": {},
   "outputs": [],
   "source": [
    "import pandas as pd\n",
    "import geopandas as gpd\n",
    "import matplotlib.pyplot as plt\n",
    "\n",
    "# Projection for use in calculating areas\n",
    "albers_hi = '+proj=aea +lat_0=13 +lon_0=-157 +lat_1=8 +lat_2=18 +x_0=0 +y_0=0 +datum=NAD83 +units=m +no_defs +type=crs'"
   ]
  },
  {
   "cell_type": "code",
   "execution_count": 2,
   "metadata": {},
   "outputs": [],
   "source": [
    "# Shapefile containing all Honolulu zoning areas and development standards\n",
    "# Source: Hawaii Zoning Atlas c. July 2024 (latest vintage)\n",
    "zoning = gpd.read_file('./data/zoning_maps/HonoluluCountyHonoluluCountyHI-ZoningDistricts.geojson')"
   ]
  },
  {
   "cell_type": "code",
   "execution_count": 3,
   "metadata": {},
   "outputs": [
    {
     "name": "stderr",
     "output_type": "stream",
     "text": [
      "C:\\Users\\curly\\AppData\\Local\\Temp\\ipykernel_26536\\2549034758.py:24: UserWarning: This pattern is interpreted as a regular expression, and has match groups. To actually get the groups, use str.extract.\n",
      "  zoning = zoning[zoning['Abbreviated District Name'].str.contains(r'\\b(A-|AMX-)', regex=True)]\n"
     ]
    }
   ],
   "source": [
    "# Only keep columns containing relevant metadata and development standards\n",
    "keep_cols = ['Abbreviated District Name',\n",
    "            'Full District Name',\n",
    "            'Type of Zoning District',\n",
    "            '1-Family Front Setback',\n",
    "       '1-Family Front Setback Units', '1-Family Side Setback',\n",
    "       '1-Family Side Setback Units', '1-Family Rear Setback',\n",
    "       '1-Family Rear Setback Units',\n",
    "       '1-Family Max. Lot Coverage - Buildings',\n",
    "       '1-Family Max. Lot Coverage - Buildings Units',\n",
    "       '1-Family Max. Lot Coverage - Buildings & Impervious Surface',\n",
    "       '1-Family Max. Lot Coverage - Buildings & Impervious Surface Units',\n",
    "       '1-Family Max. Stories',\n",
    "       '1-Family Max. Stories Units', '1-Family Max. Height',\n",
    "       '1-Family Max. Height Units',\n",
    "       '1-Family Floor to Area Ratio', '1-Family Floor to Area Ratio Units',\n",
    "       '1-Family Min. Unit Size', '1-Family Min. Unit Size Units',\n",
    "       'geometry'\n",
    "            ]\n",
    "\n",
    "zoning = zoning[keep_cols]\n",
    "\n",
    "# Only keep rows containing 'A-' or 'AMX-'\n",
    "zoning = zoning[zoning['Abbreviated District Name'].str.contains(r'\\b(A-|AMX-)', regex=True)]\n"
   ]
  },
  {
   "cell_type": "code",
   "execution_count": 4,
   "metadata": {},
   "outputs": [],
   "source": [
    "# Shapefile containing Honolulu parcels (not uploaded b/c file too large for Github)\n",
    "# Source: Statewide GIS portal as of 9/1/2024 https://geoportal.hawaii.gov/datasets/0066cc691254414991182cbda7de4721_0/explore\n",
    "# mask parameter clips parcels on read, saving ~90s runtime\n",
    "tax_parcels = gpd.read_file('./local/Honolulu Tax Parcels.geojson', mask=zoning)"
   ]
  },
  {
   "cell_type": "code",
   "execution_count": 5,
   "metadata": {},
   "outputs": [
    {
     "data": {
      "text/plain": [
       "Index(['objectid', 'parcel_uid', 'type', 'tmk', 'taxpin', 'rec_area_ac',\n",
       "       'rec_area_sf', 'street_parcel', 'zsp', 'in_date', 'in_file_num',\n",
       "       'in_edit_event', 'parcel_fabric_type', 'zone', 'section', 'plat',\n",
       "       'rpa_source_doc', 'ias_transaction', 'rpa_spatial_source_doc',\n",
       "       'rpa_stated_area', 'guid', 'last_edited_date', 'plan_lookup', 'tmk8num',\n",
       "       'tmk9num', 'globalid', 'CreationDate', 'Creator', 'EditDate', 'Editor',\n",
       "       'geometry'],\n",
       "      dtype='object')"
      ]
     },
     "execution_count": 5,
     "metadata": {},
     "output_type": "execute_result"
    }
   ],
   "source": [
    "tax_parcels.columns"
   ]
  },
  {
   "cell_type": "code",
   "execution_count": 6,
   "metadata": {},
   "outputs": [
    {
     "data": {
      "text/plain": [
       "{'11012004': [0], '11012012': [1], '11012013': [2], '11012014': [3], '11012026': [4], '11012027': [5], '11012028': [6], '11012029': [9420], '11012032': [7], '11012033': [8], '11012036': [9], '11012037': [10], '11012038': [11], '11012039': [12], '11017001': [13], '11017005': [9219], '11017006': [9226], '11017007': [9220], '11017008': [9227], '11017009': [9228], '11017010': [9221], '11017011': [9222], '11017012': [9223], '11017013': [9229], '11017014': [9230], '11017015': [9224], '11017016': [9225], '11017017': [14], '11017018': [15], '11017019': [9231], '11017020': [16], '11017021': [17], '11017022': [9232], '11017023': [18], '11017024': [19], '11017025': [9233], '11017026': [20], '11017027': [21], '11017028': [9234], '11017029': [22], '11017030': [23], '11017031': [9235], '11017032': [24], '11017033': [25], '11017034': [26], '11017035': [27], '11017036': [28], '11017037': [29], '11017038': [30], '11017039': [9218], '11018001': [31], '11018002': [32], '11018003': [33], '11018004': [34], '11018005': [35], '11018006': [36], '11018007': [37], '11018008': [38], '11018009': [39], '11018010': [40], '11018012': [41], '11018013': [42], '11018014': [43], '11018015': [44], '11018016': [45], '11018017': [46], '11018018': [47], '11018019': [48], '11018020': [49], '11018021': [50], '11018022': [51], '11018023': [52], '11018024': [53], '11018025': [54], '11018026': [55], '11018027': [56], '11018028': [57], '11018029': [58], '11018030': [59], '11018031': [60], '11018032': [61], '11018033': [62], '11018034': [63], '11018035': [64], '11018036': [65], '11018037': [66], '11018038': [67], '11021001': [68], '11021002': [69], '11021003': [70], '11021004': [71], '11021005': [72], '11021006': [73], '11021007': [74], '11021008': [75], '11021009': [76], '11021010': [77], '11021011': [78], '11021013': [79], '11021014': [80], ...}"
      ]
     },
     "execution_count": 6,
     "metadata": {},
     "output_type": "execute_result"
    }
   ],
   "source": [
    "tax_parcels.groupby('tmk').groups"
   ]
  },
  {
   "cell_type": "code",
   "execution_count": 7,
   "metadata": {},
   "outputs": [],
   "source": [
    "# remove duplicates for 1:1 merge\n",
    "# NOTE I don't know why there were 4 duplicates, check later\n",
    "tax_parcels.drop_duplicates('tmk', \n",
    "                            inplace=True)"
   ]
  },
  {
   "cell_type": "code",
   "execution_count": 8,
   "metadata": {},
   "outputs": [],
   "source": [
    "# Shapefile containing Honolulu real property tax data (not uploaded b/c file too large for Github)\n",
    "# FIXME geometry is invalid. If we could fix, tax_parcels would be unnecessary.\n",
    "# Source: Statewide GIS portal as of 9/1/2024 https://geoportal.hawaii.gov/datasets/11a667cc8ab0434c9c40c8566dc0d375_9/explore\n",
    "tax_values = gpd.read_file('./local/Honolulu Tax Valuations.geojson')"
   ]
  },
  {
   "cell_type": "code",
   "execution_count": 12,
   "metadata": {},
   "outputs": [
    {
     "data": {
      "text/plain": [
       "Index(['tmk', 'buildingvalue', 'buildingexemption', 'landvalue',\n",
       "       'landexemption', 'pittsqft', 'pittacre'],\n",
       "      dtype='object')"
      ]
     },
     "execution_count": 12,
     "metadata": {},
     "output_type": "execute_result"
    }
   ],
   "source": [
    "tax_values.columns"
   ]
  },
  {
   "cell_type": "code",
   "execution_count": 11,
   "metadata": {},
   "outputs": [
    {
     "ename": "KeyError",
     "evalue": "\"['geometry'] not found in axis\"",
     "output_type": "error",
     "traceback": [
      "\u001b[1;31m---------------------------------------------------------------------------\u001b[0m",
      "\u001b[1;31mKeyError\u001b[0m                                  Traceback (most recent call last)",
      "Cell \u001b[1;32mIn[11], line 2\u001b[0m\n\u001b[0;32m      1\u001b[0m \u001b[38;5;66;03m# FIXME instead of dropping geometry, download the file without it if we can't fix it\u001b[39;00m\n\u001b[1;32m----> 2\u001b[0m tax_values\u001b[38;5;241m.\u001b[39mdrop(\u001b[38;5;124m'\u001b[39m\u001b[38;5;124mgeometry\u001b[39m\u001b[38;5;124m'\u001b[39m,\n\u001b[0;32m      3\u001b[0m                 axis \u001b[38;5;241m=\u001b[39m \u001b[38;5;241m1\u001b[39m,\n\u001b[0;32m      4\u001b[0m                 inplace\u001b[38;5;241m=\u001b[39m\u001b[38;5;28;01mTrue\u001b[39;00m)\n\u001b[0;32m      6\u001b[0m \u001b[38;5;124;03m\"\"\"\u001b[39;00m\n\u001b[0;32m      7\u001b[0m \u001b[38;5;124;03mNOTE need to confirm correct understanding with RPAD: Sum all TMK suffixes or exclude 0000?\u001b[39;00m\n\u001b[0;32m      8\u001b[0m \u001b[38;5;124;03m0000 corresponds to the master record for a condo. The land value is often close to equal to the\u001b[39;00m\n\u001b[0;32m      9\u001b[0m \u001b[38;5;124;03msum of all land values for suffixes 1-N. Implies either condo association owns and pays taxes on\u001b[39;00m\n\u001b[0;32m     10\u001b[0m \u001b[38;5;124;03m50% of the land, or that the land value in the master line *is* the sum.\u001b[39;00m\n\u001b[0;32m     11\u001b[0m \u001b[38;5;124;03m\"\"\"\u001b[39;00m\n\u001b[0;32m     13\u001b[0m tax_values \u001b[38;5;241m=\u001b[39m tax_values\u001b[38;5;241m.\u001b[39mgroupby(\u001b[38;5;124m'\u001b[39m\u001b[38;5;124mtmk\u001b[39m\u001b[38;5;124m'\u001b[39m)\u001b[38;5;241m.\u001b[39magg({\n\u001b[0;32m     14\u001b[0m         \u001b[38;5;124m'\u001b[39m\u001b[38;5;124mbuildingvalue\u001b[39m\u001b[38;5;124m'\u001b[39m: \u001b[38;5;124m'\u001b[39m\u001b[38;5;124msum\u001b[39m\u001b[38;5;124m'\u001b[39m,\n\u001b[0;32m     15\u001b[0m         \u001b[38;5;124m'\u001b[39m\u001b[38;5;124mbuildingexemption\u001b[39m\u001b[38;5;124m'\u001b[39m: \u001b[38;5;124m'\u001b[39m\u001b[38;5;124msum\u001b[39m\u001b[38;5;124m'\u001b[39m,\n\u001b[1;32m   (...)\u001b[0m\n\u001b[0;32m     19\u001b[0m         \u001b[38;5;124m'\u001b[39m\u001b[38;5;124mpittacre\u001b[39m\u001b[38;5;124m'\u001b[39m: \u001b[38;5;124m'\u001b[39m\u001b[38;5;124msum\u001b[39m\u001b[38;5;124m'\u001b[39m\n\u001b[0;32m     20\u001b[0m     })\u001b[38;5;241m.\u001b[39mreset_index()\n",
      "File \u001b[1;32mc:\\Users\\curly\\miniconda3\\envs\\geoanalysis\\Lib\\site-packages\\pandas\\core\\frame.py:5568\u001b[0m, in \u001b[0;36mDataFrame.drop\u001b[1;34m(self, labels, axis, index, columns, level, inplace, errors)\u001b[0m\n\u001b[0;32m   5420\u001b[0m \u001b[38;5;28;01mdef\u001b[39;00m \u001b[38;5;21mdrop\u001b[39m(\n\u001b[0;32m   5421\u001b[0m     \u001b[38;5;28mself\u001b[39m,\n\u001b[0;32m   5422\u001b[0m     labels: IndexLabel \u001b[38;5;241m|\u001b[39m \u001b[38;5;28;01mNone\u001b[39;00m \u001b[38;5;241m=\u001b[39m \u001b[38;5;28;01mNone\u001b[39;00m,\n\u001b[1;32m   (...)\u001b[0m\n\u001b[0;32m   5429\u001b[0m     errors: IgnoreRaise \u001b[38;5;241m=\u001b[39m \u001b[38;5;124m\"\u001b[39m\u001b[38;5;124mraise\u001b[39m\u001b[38;5;124m\"\u001b[39m,\n\u001b[0;32m   5430\u001b[0m ) \u001b[38;5;241m-\u001b[39m\u001b[38;5;241m>\u001b[39m DataFrame \u001b[38;5;241m|\u001b[39m \u001b[38;5;28;01mNone\u001b[39;00m:\n\u001b[0;32m   5431\u001b[0m \u001b[38;5;250m    \u001b[39m\u001b[38;5;124;03m\"\"\"\u001b[39;00m\n\u001b[0;32m   5432\u001b[0m \u001b[38;5;124;03m    Drop specified labels from rows or columns.\u001b[39;00m\n\u001b[0;32m   5433\u001b[0m \n\u001b[1;32m   (...)\u001b[0m\n\u001b[0;32m   5566\u001b[0m \u001b[38;5;124;03m            weight  1.0     0.8\u001b[39;00m\n\u001b[0;32m   5567\u001b[0m \u001b[38;5;124;03m    \"\"\"\u001b[39;00m\n\u001b[1;32m-> 5568\u001b[0m     \u001b[38;5;28;01mreturn\u001b[39;00m \u001b[38;5;28msuper\u001b[39m()\u001b[38;5;241m.\u001b[39mdrop(\n\u001b[0;32m   5569\u001b[0m         labels\u001b[38;5;241m=\u001b[39mlabels,\n\u001b[0;32m   5570\u001b[0m         axis\u001b[38;5;241m=\u001b[39maxis,\n\u001b[0;32m   5571\u001b[0m         index\u001b[38;5;241m=\u001b[39mindex,\n\u001b[0;32m   5572\u001b[0m         columns\u001b[38;5;241m=\u001b[39mcolumns,\n\u001b[0;32m   5573\u001b[0m         level\u001b[38;5;241m=\u001b[39mlevel,\n\u001b[0;32m   5574\u001b[0m         inplace\u001b[38;5;241m=\u001b[39minplace,\n\u001b[0;32m   5575\u001b[0m         errors\u001b[38;5;241m=\u001b[39merrors,\n\u001b[0;32m   5576\u001b[0m     )\n",
      "File \u001b[1;32mc:\\Users\\curly\\miniconda3\\envs\\geoanalysis\\Lib\\site-packages\\pandas\\core\\generic.py:4785\u001b[0m, in \u001b[0;36mNDFrame.drop\u001b[1;34m(self, labels, axis, index, columns, level, inplace, errors)\u001b[0m\n\u001b[0;32m   4783\u001b[0m \u001b[38;5;28;01mfor\u001b[39;00m axis, labels \u001b[38;5;129;01min\u001b[39;00m axes\u001b[38;5;241m.\u001b[39mitems():\n\u001b[0;32m   4784\u001b[0m     \u001b[38;5;28;01mif\u001b[39;00m labels \u001b[38;5;129;01mis\u001b[39;00m \u001b[38;5;129;01mnot\u001b[39;00m \u001b[38;5;28;01mNone\u001b[39;00m:\n\u001b[1;32m-> 4785\u001b[0m         obj \u001b[38;5;241m=\u001b[39m obj\u001b[38;5;241m.\u001b[39m_drop_axis(labels, axis, level\u001b[38;5;241m=\u001b[39mlevel, errors\u001b[38;5;241m=\u001b[39merrors)\n\u001b[0;32m   4787\u001b[0m \u001b[38;5;28;01mif\u001b[39;00m inplace:\n\u001b[0;32m   4788\u001b[0m     \u001b[38;5;28mself\u001b[39m\u001b[38;5;241m.\u001b[39m_update_inplace(obj)\n",
      "File \u001b[1;32mc:\\Users\\curly\\miniconda3\\envs\\geoanalysis\\Lib\\site-packages\\pandas\\core\\generic.py:4827\u001b[0m, in \u001b[0;36mNDFrame._drop_axis\u001b[1;34m(self, labels, axis, level, errors, only_slice)\u001b[0m\n\u001b[0;32m   4825\u001b[0m         new_axis \u001b[38;5;241m=\u001b[39m axis\u001b[38;5;241m.\u001b[39mdrop(labels, level\u001b[38;5;241m=\u001b[39mlevel, errors\u001b[38;5;241m=\u001b[39merrors)\n\u001b[0;32m   4826\u001b[0m     \u001b[38;5;28;01melse\u001b[39;00m:\n\u001b[1;32m-> 4827\u001b[0m         new_axis \u001b[38;5;241m=\u001b[39m axis\u001b[38;5;241m.\u001b[39mdrop(labels, errors\u001b[38;5;241m=\u001b[39merrors)\n\u001b[0;32m   4828\u001b[0m     indexer \u001b[38;5;241m=\u001b[39m axis\u001b[38;5;241m.\u001b[39mget_indexer(new_axis)\n\u001b[0;32m   4830\u001b[0m \u001b[38;5;66;03m# Case for non-unique axis\u001b[39;00m\n\u001b[0;32m   4831\u001b[0m \u001b[38;5;28;01melse\u001b[39;00m:\n",
      "File \u001b[1;32mc:\\Users\\curly\\miniconda3\\envs\\geoanalysis\\Lib\\site-packages\\pandas\\core\\indexes\\base.py:7070\u001b[0m, in \u001b[0;36mIndex.drop\u001b[1;34m(self, labels, errors)\u001b[0m\n\u001b[0;32m   7068\u001b[0m \u001b[38;5;28;01mif\u001b[39;00m mask\u001b[38;5;241m.\u001b[39many():\n\u001b[0;32m   7069\u001b[0m     \u001b[38;5;28;01mif\u001b[39;00m errors \u001b[38;5;241m!=\u001b[39m \u001b[38;5;124m\"\u001b[39m\u001b[38;5;124mignore\u001b[39m\u001b[38;5;124m\"\u001b[39m:\n\u001b[1;32m-> 7070\u001b[0m         \u001b[38;5;28;01mraise\u001b[39;00m \u001b[38;5;167;01mKeyError\u001b[39;00m(\u001b[38;5;124mf\u001b[39m\u001b[38;5;124m\"\u001b[39m\u001b[38;5;132;01m{\u001b[39;00mlabels[mask]\u001b[38;5;241m.\u001b[39mtolist()\u001b[38;5;132;01m}\u001b[39;00m\u001b[38;5;124m not found in axis\u001b[39m\u001b[38;5;124m\"\u001b[39m)\n\u001b[0;32m   7071\u001b[0m     indexer \u001b[38;5;241m=\u001b[39m indexer[\u001b[38;5;241m~\u001b[39mmask]\n\u001b[0;32m   7072\u001b[0m \u001b[38;5;28;01mreturn\u001b[39;00m \u001b[38;5;28mself\u001b[39m\u001b[38;5;241m.\u001b[39mdelete(indexer)\n",
      "\u001b[1;31mKeyError\u001b[0m: \"['geometry'] not found in axis\""
     ]
    }
   ],
   "source": [
    "# FIXME instead of dropping geometry, download the file without it if we can't fix it\n",
    "tax_values.drop('geometry',\n",
    "                axis = 1,\n",
    "                inplace=True)\n",
    "\n",
    "\"\"\"\n",
    "NOTE need to confirm correct understanding with RPAD: Sum all TMK suffixes or exclude 0000?\n",
    "0000 corresponds to the master record for a condo. The land value is often close to equal to the\n",
    "sum of all land values for suffixes 1-N. Implies either condo association owns and pays taxes on\n",
    "50% of the land, or that the land value in the master line *is* the sum.\n",
    "\"\"\"\n",
    "\n",
    "tax_values = tax_values.groupby('tmk').agg({\n",
    "        'buildingvalue': 'sum',\n",
    "        'buildingexemption': 'sum',\n",
    "        'landvalue': 'sum',\n",
    "        'landexemption': 'sum'\n",
    "    }).reset_index()\n"
   ]
  },
  {
   "cell_type": "code",
   "execution_count": 13,
   "metadata": {},
   "outputs": [
    {
     "data": {
      "text/html": [
       "<div>\n",
       "<style scoped>\n",
       "    .dataframe tbody tr th:only-of-type {\n",
       "        vertical-align: middle;\n",
       "    }\n",
       "\n",
       "    .dataframe tbody tr th {\n",
       "        vertical-align: top;\n",
       "    }\n",
       "\n",
       "    .dataframe thead th {\n",
       "        text-align: right;\n",
       "    }\n",
       "</style>\n",
       "<table border=\"1\" class=\"dataframe\">\n",
       "  <thead>\n",
       "    <tr style=\"text-align: right;\">\n",
       "      <th></th>\n",
       "      <th>tmk</th>\n",
       "      <th>buildingvalue</th>\n",
       "      <th>buildingexemption</th>\n",
       "      <th>landvalue</th>\n",
       "      <th>landexemption</th>\n",
       "      <th>pittsqft</th>\n",
       "      <th>pittacre</th>\n",
       "    </tr>\n",
       "  </thead>\n",
       "  <tbody>\n",
       "    <tr>\n",
       "      <th>0</th>\n",
       "      <td>11001001</td>\n",
       "      <td>9708600</td>\n",
       "      <td>9708600</td>\n",
       "      <td>48259900</td>\n",
       "      <td>48259900</td>\n",
       "      <td>0</td>\n",
       "      <td>0</td>\n",
       "    </tr>\n",
       "    <tr>\n",
       "      <th>1</th>\n",
       "      <td>11002001</td>\n",
       "      <td>19600</td>\n",
       "      <td>19600</td>\n",
       "      <td>29235500</td>\n",
       "      <td>29235500</td>\n",
       "      <td>0</td>\n",
       "      <td>0</td>\n",
       "    </tr>\n",
       "    <tr>\n",
       "      <th>2</th>\n",
       "      <td>11002002</td>\n",
       "      <td>12041800</td>\n",
       "      <td>12041800</td>\n",
       "      <td>86450600</td>\n",
       "      <td>86450600</td>\n",
       "      <td>0</td>\n",
       "      <td>0</td>\n",
       "    </tr>\n",
       "    <tr>\n",
       "      <th>3</th>\n",
       "      <td>11002004</td>\n",
       "      <td>0</td>\n",
       "      <td>0</td>\n",
       "      <td>7407700</td>\n",
       "      <td>7407700</td>\n",
       "      <td>0</td>\n",
       "      <td>0</td>\n",
       "    </tr>\n",
       "    <tr>\n",
       "      <th>4</th>\n",
       "      <td>11002006</td>\n",
       "      <td>1350900</td>\n",
       "      <td>1350900</td>\n",
       "      <td>2427200</td>\n",
       "      <td>2427200</td>\n",
       "      <td>0</td>\n",
       "      <td>0</td>\n",
       "    </tr>\n",
       "  </tbody>\n",
       "</table>\n",
       "</div>"
      ],
      "text/plain": [
       "        tmk  buildingvalue  buildingexemption  landvalue  landexemption  \\\n",
       "0  11001001        9708600            9708600   48259900       48259900   \n",
       "1  11002001          19600              19600   29235500       29235500   \n",
       "2  11002002       12041800           12041800   86450600       86450600   \n",
       "3  11002004              0                  0    7407700        7407700   \n",
       "4  11002006        1350900            1350900    2427200        2427200   \n",
       "\n",
       "   pittsqft  pittacre  \n",
       "0         0         0  \n",
       "1         0         0  \n",
       "2         0         0  \n",
       "3         0         0  \n",
       "4         0         0  "
      ]
     },
     "execution_count": 13,
     "metadata": {},
     "output_type": "execute_result"
    }
   ],
   "source": [
    "tax_values.head()"
   ]
  },
  {
   "cell_type": "code",
   "execution_count": 14,
   "metadata": {},
   "outputs": [],
   "source": [
    "# join tax parcels to tax values on TMK\n",
    "# FIXME Merge keys are not unique in left dataset; not a one-to-one merge\n",
    "full_tax_data = tax_parcels.merge(tax_values,\n",
    "                  how = 'inner',\n",
    "                  on = 'tmk',\n",
    "                  validate = '1:1')"
   ]
  },
  {
   "cell_type": "code",
   "execution_count": 15,
   "metadata": {},
   "outputs": [
    {
     "data": {
      "text/plain": [
       "Index(['objectid', 'parcel_uid', 'type', 'tmk', 'taxpin', 'rec_area_ac',\n",
       "       'rec_area_sf', 'street_parcel', 'zsp', 'in_date', 'in_file_num',\n",
       "       'in_edit_event', 'parcel_fabric_type', 'zone', 'section', 'plat',\n",
       "       'rpa_source_doc', 'ias_transaction', 'rpa_spatial_source_doc',\n",
       "       'rpa_stated_area', 'guid', 'last_edited_date', 'plan_lookup', 'tmk8num',\n",
       "       'tmk9num', 'globalid', 'CreationDate', 'Creator', 'EditDate', 'Editor',\n",
       "       'geometry', 'buildingvalue', 'buildingexemption', 'landvalue',\n",
       "       'landexemption', 'pittsqft', 'pittacre'],\n",
       "      dtype='object')"
      ]
     },
     "execution_count": 15,
     "metadata": {},
     "output_type": "execute_result"
    }
   ],
   "source": [
    "full_tax_data.columns"
   ]
  },
  {
   "cell_type": "code",
   "execution_count": 16,
   "metadata": {},
   "outputs": [],
   "source": [
    "parcels_in_zones = full_tax_data.overlay(zoning, how = 'intersection')"
   ]
  },
  {
   "cell_type": "code",
   "execution_count": 17,
   "metadata": {},
   "outputs": [
    {
     "data": {
      "text/plain": [
       "<Axes: >"
      ]
     },
     "execution_count": 17,
     "metadata": {},
     "output_type": "execute_result"
    },
    {
     "data": {
      "image/png": "[encoded data removed]",
      "text/plain": [
       "<Figure size 640x480 with 1 Axes>"
      ]
     },
     "metadata": {},
     "output_type": "display_data"
    }
   ],
   "source": [
    "parcels_in_zones.plot()"
   ]
  },
  {
   "cell_type": "code",
   "execution_count": 18,
   "metadata": {},
   "outputs": [],
   "source": [
    "# filter parcels in zones to <100000 bldg value in new df\n",
    "filter_value = 100000\n",
    "vacant_parcels = parcels_in_zones[parcels_in_zones['buildingvalue'] < filter_value]"
   ]
  },
  {
   "cell_type": "code",
   "execution_count": 19,
   "metadata": {},
   "outputs": [
    {
     "name": "stdout",
     "output_type": "stream",
     "text": [
      "number of vacant A/AMX lots:  1846\n",
      "percent of A/AMX lots that are vacant:  0.19\n",
      "percent of total A/AMX land area that is vacant: TBD\n"
     ]
    }
   ],
   "source": [
    "# calculate proportion of lots and lot area that is vacant\n",
    "print('number of vacant A/AMX lots: ', len(vacant_parcels))\n",
    "print('percent of A/AMX lots that are vacant: ', round(len(vacant_parcels)/len(tax_parcels),2))\n",
    "\n",
    "# FIXME rec_area_ac has a lot of missing data, need to project to albers, calculate our own parcel areas, then redo this calculation\n",
    "print('percent of total A/AMX land area that is vacant: TBD')\n",
    "# print('percent of total A/AMX land area that is vacant: ', vacant_parcels.rec_area_ac.sum()/tax_parcels.rec_area_ac.sum())"
   ]
  }
 ],
 "metadata": {
  "kernelspec": {
   "display_name": "geoanalysis",
   "language": "python",
   "name": "python3"
  },
  "language_info": {
   "codemirror_mode": {
    "name": "ipython",
    "version": 3
   },
   "file_extension": ".py",
   "mimetype": "text/x-python",
   "name": "python",
   "nbconvert_exporter": "python",
   "pygments_lexer": "ipython3",
   "version": "3.12.2"
  }
 },
 "nbformat": 4,
 "nbformat_minor": 2
}
